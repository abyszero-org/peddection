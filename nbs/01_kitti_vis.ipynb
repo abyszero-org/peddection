{
 "cells": [
  {
   "cell_type": "markdown",
   "metadata": {},
   "source": [
    "# 01 Visualizing KITTI\n",
    "\n",
    "The format of each Velodyne file is 32-bit floats representing an array of [x, y, z, b] points, where \"b\" is brightness or irradiance. There is otherwise no delimiter. "
   ]
  },
  {
   "cell_type": "code",
   "execution_count": null,
   "metadata": {},
   "outputs": [],
   "source": [
    "#|default_exp kitti.vis"
   ]
  },
  {
   "cell_type": "code",
   "execution_count": null,
   "metadata": {},
   "outputs": [],
   "source": [
    "#| hide\n",
    "from nbdev.showdoc import *"
   ]
  },
  {
   "cell_type": "code",
   "execution_count": null,
   "metadata": {},
   "outputs": [],
   "source": [
    "#| export\n",
    "from typing import Union, Iterable\n",
    "from pathlib import Path\n",
    "from os import PathLike, environ\n",
    "\n",
    "from pathlib import Path\n",
    "import numpy as np\n",
    "import open3d as o3d\n",
    "\n",
    "import matplotlib.pyplot as plt\n",
    "from mpl_toolkits import mplot3d\n",
    "import plotly.graph_objects as go\n"
   ]
  },
  {
   "cell_type": "code",
   "execution_count": null,
   "metadata": {},
   "outputs": [],
   "source": [
    "#| export\n",
    "KITTI_ROOT:Path = environ.get(\"KITTI_ROOT\", Path(\"/media/usbhd4tb/datasets/kitti\"))\n",
    "\n",
    "# Documentation: https://www.open3d.org/docs/release/python_api/open3d.ml.torch.datasets.KITTI.html\n",
    "ds:o3d.ml.datasets.KITTI = o3d.ml.datasets.KITTI(KITTI_ROOT)"
   ]
  },
  {
   "cell_type": "code",
   "execution_count": null,
   "metadata": {},
   "outputs": [
    {
     "data": {
      "text/plain": [
       "{0: 'Pedestrian',\n",
       " 1: 'Cyclist',\n",
       " 2: 'Car',\n",
       " 3: 'Van',\n",
       " 4: 'Person_sitting',\n",
       " 5: 'DontCare'}"
      ]
     },
     "execution_count": null,
     "metadata": {},
     "output_type": "execute_result"
    }
   ],
   "source": [
    "ds.get_label_to_names()"
   ]
  },
  {
   "cell_type": "code",
   "execution_count": null,
   "metadata": {},
   "outputs": [
    {
     "data": {
      "text/plain": [
       "3712"
      ]
     },
     "execution_count": null,
     "metadata": {},
     "output_type": "execute_result"
    }
   ],
   "source": [
    "len(ds.get_split(\"train\"))"
   ]
  },
  {
   "cell_type": "code",
   "execution_count": null,
   "metadata": {},
   "outputs": [],
   "source": [
    "#| export\n",
    "def loadVeloAsPcd(fname: Union[str, PathLike])->o3d.geometry.PointCloud:\n",
    "    points          = o3d.ml.datasets.KITTI.read_lidar(fname)\n",
    "    cloud           = o3d.geometry.PointCloud()\n",
    "    cloud.points    = o3d.utility.Vector3dVector(points[:, :3].astype(float))\n",
    "    cloud.estimate_normals(search_param = o3d.geometry.KDTreeSearchParamHybrid(radius = 0.1, max_nn = 30))\n",
    "    return cloud"
   ]
  },
  {
   "cell_type": "code",
   "execution_count": null,
   "metadata": {},
   "outputs": [
    {
     "data": {
      "text/plain": [
       "PointCloud with 19913 points."
      ]
     },
     "execution_count": null,
     "metadata": {},
     "output_type": "execute_result"
    }
   ],
   "source": [
    "num:str                         = \"000900\"\n",
    "fname                           = KITTI_ROOT/\"training\"/\"velodyne_reduced\"/(num+\".bin\")\n",
    "cloud:o3d.geometry.PointCloud   = loadVeloAsPcd(fname)\n",
    "cloud"
   ]
  },
  {
   "cell_type": "code",
   "execution_count": null,
   "metadata": {},
   "outputs": [],
   "source": [
    "#| export\n",
    "def plotCloud(\n",
    "        cloud: o3d.geometry.PointCloud, \n",
    "        boxes:Iterable[o3d._ml3d.datasets.kitti.Object3d] = [])->go.Figure:\n",
    "    \n",
    "    points = np.asarray(cloud.points)\n",
    "    \n",
    "    colors = None\n",
    "    if cloud.has_colors():\n",
    "        colors = np.asarray(cloud.colors)\n",
    "    elif cloud.has_normals():\n",
    "        colors = (0.5, 0.5, 0.5) + np.asarray(cloud.normals) * 0.5\n",
    "    else:\n",
    "        colors = np.zeros((3, 1), dtype=np.float64) \n",
    "        cloud.paint_uniform_color(colors)  \n",
    "    \n",
    "\n",
    "    # Add the point cloud\n",
    "    data = [go.Scatter3d(\n",
    "        x=points[:, 0], y=points[:, 1], z=points[:, 2],\n",
    "        mode = 'markers',\n",
    "        marker = {\"size\": 1, \"color\": colors}\n",
    "    )]\n",
    "\n",
    "    # Add bounding boxes\n",
    "    for box in boxes:\n",
    "        corners = box.generate_corners3d()\n",
    "        x, y, z = corners[:, 0], corners[:, 1], corners[:, 2]\n",
    "        mesh = go.Mesh3d(\n",
    "            x=x, y=y, z=z,\n",
    "            color='rgba(0, 255, 0, 0.5)',  # Semi-transparent green\n",
    "            opacity=0.5\n",
    "        )\n",
    "        data.append(mesh)\n",
    "\n",
    "    # Global figure settings\n",
    "    layout = {\n",
    "        \"scene\": {\n",
    "            \"xaxis\": {\"visible\": False},\n",
    "            \"yaxis\": {\"visible\": False},\n",
    "            \"zaxis\": {\"visible\": False}\n",
    "        }\n",
    "    }\n",
    "\n",
    "    fig = go.Figure(data=data, layout=layout)\n",
    "    return fig"
   ]
  },
  {
   "cell_type": "code",
   "execution_count": null,
   "metadata": {},
   "outputs": [
    {
     "data": {
      "text/plain": [
       "{'world_cam': array([[ 2.34773921e-04,  1.04494076e-02,  9.99945343e-01,\n",
       "          0.00000000e+00],\n",
       "        [-9.99944150e-01,  1.05653545e-02,  1.24365499e-04,\n",
       "          0.00000000e+00],\n",
       "        [-1.05634769e-02, -9.99889612e-01,  1.04513029e-02,\n",
       "          0.00000000e+00],\n",
       "        [-2.79681687e-03, -7.51087889e-02, -2.72132814e-01,\n",
       "          1.00000000e+00]], dtype=float32),\n",
       " 'cam_img': array([[7.215377e+02, 0.000000e+00, 0.000000e+00, 0.000000e+00],\n",
       "        [0.000000e+00, 7.215377e+02, 0.000000e+00, 0.000000e+00],\n",
       "        [6.095593e+02, 1.728540e+02, 1.000000e+00, 1.000000e+00],\n",
       "        [4.485728e+01, 2.163791e-01, 2.745884e-03, 0.000000e+00]],\n",
       "       dtype=float32)}"
      ]
     },
     "execution_count": null,
     "metadata": {},
     "output_type": "execute_result"
    }
   ],
   "source": [
    "calib = ds.read_calib(KITTI_ROOT/\"training\"/\"calib\"/(num+\".txt\"))\n",
    "calib"
   ]
  },
  {
   "cell_type": "code",
   "execution_count": null,
   "metadata": {},
   "outputs": [
    {
     "data": {
      "text/plain": [
       "array([[-1.70254446,  1.65      , 40.59824648],\n",
       "       [-3.29049358,  1.65      , 40.51751505],\n",
       "       [-3.51745553,  1.65      , 44.98174939],\n",
       "       [-1.9295064 ,  1.65      , 45.06248082],\n",
       "       [-1.70254446,  0.24      , 40.59824648],\n",
       "       [-3.29049358,  0.24      , 40.51751505],\n",
       "       [-3.51745553,  0.24      , 44.98174939],\n",
       "       [-1.9295064 ,  0.24      , 45.06248082]])"
      ]
     },
     "execution_count": null,
     "metadata": {},
     "output_type": "execute_result"
    }
   ],
   "source": [
    "label = KITTI_ROOT/\"training\"/\"label_2\"/(num+\".txt\")\n",
    "label = ds.read_label(label, calib)\n",
    "\n",
    "label[0].generate_corners3d()"
   ]
  },
  {
   "cell_type": "code",
   "execution_count": null,
   "metadata": {},
   "outputs": [],
   "source": [
    "fig = plotCloud(cloud)\n",
    "fig.show()"
   ]
  },
  {
   "cell_type": "code",
   "execution_count": null,
   "metadata": {},
   "outputs": [],
   "source": []
  },
  {
   "cell_type": "code",
   "execution_count": null,
   "metadata": {},
   "outputs": [],
   "source": [
    "#| hide\n",
    "import nbdev; nbdev.nbdev_export()"
   ]
  },
  {
   "cell_type": "code",
   "execution_count": null,
   "metadata": {},
   "outputs": [],
   "source": []
  }
 ],
 "metadata": {
  "kernelspec": {
   "display_name": "python3",
   "language": "python",
   "name": "python3"
  }
 },
 "nbformat": 4,
 "nbformat_minor": 2
}
