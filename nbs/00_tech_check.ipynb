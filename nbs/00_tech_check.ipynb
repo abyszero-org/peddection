{
 "cells": [
  {
   "cell_type": "markdown",
   "metadata": {},
   "source": [
    "# 00 Tech Check\n",
    "\n",
    "> Check that dependencies are installed and that visualization is working."
   ]
  },
  {
   "cell_type": "code",
   "execution_count": null,
   "metadata": {},
   "outputs": [],
   "source": [
    "#|default_exp techcheck"
   ]
  },
  {
   "cell_type": "code",
   "execution_count": null,
   "metadata": {},
   "outputs": [],
   "source": [
    "#| hide\n",
    "from nbdev.showdoc import *"
   ]
  },
  {
   "cell_type": "code",
   "execution_count": null,
   "metadata": {},
   "outputs": [
    {
     "name": "stdout",
     "output_type": "stream",
     "text": [
      "Jupyter environment detected. Enabling Open3D WebVisualizer.\n",
      "[Open3D INFO] WebRTC GUI backend enabled.\n",
      "[Open3D INFO] WebRTCWindowSystem: HTTP handshake server disabled.\n"
     ]
    }
   ],
   "source": [
    "import matplotlib.pyplot as plt\n",
    "from mpl_toolkits import mplot3d\n",
    "import numpy as np\n",
    "import open3d as o3d\n",
    "import plotly.graph_objects as go\n"
   ]
  },
  {
   "cell_type": "code",
   "execution_count": null,
   "metadata": {},
   "outputs": [],
   "source": [
    "ply_point_cloud = o3d.data.PLYPointCloud()\n",
    "cloud = o3d.io.read_point_cloud(ply_point_cloud.path)\n",
    "cloud.estimate_normals(\n",
    "    search_param = o3d.geometry.KDTreeSearchParamHybrid(radius = 0.1, max_nn = 30)\n",
    ")\n",
    "points = np.asarray(cloud.points)"
   ]
  },
  {
   "cell_type": "code",
   "execution_count": null,
   "metadata": {},
   "outputs": [],
   "source": [
    "colors = None\n",
    "if cloud.has_colors():\n",
    "  colors = np.asarray(cloud.colors)\n",
    "elif cloud.has_normals():\n",
    "  colors = (0.5, 0.5, 0.5) + np.asarray(cloud.normals) * 0.5\n",
    "else:\n",
    "  colors = np.zeros((3, 1), dtype=np.float64) \n",
    "  cloud.paint_uniform_color(colors)  "
   ]
  },
  {
   "cell_type": "code",
   "execution_count": null,
   "metadata": {},
   "outputs": [],
   "source": [
    "fig = go.Figure(\n",
    "    data=[\n",
    "        go.Scatter3d(\n",
    "            x=points[:, 0], y = points[:, 1], z=points[:, 2],\n",
    "            mode = 'markers',\n",
    "            marker = dict(size=1, color=colors)\n",
    "        )\n",
    "    ],\n",
    "    layout=dict( \n",
    "        scene=dict(\n",
    "            xaxis = dict(visible = False),\n",
    "            yaxis = dict(visible = False),\n",
    "            zaxis = dict(visible = False)\n",
    "        )\n",
    "    )\n",
    ")\n",
    "fig.show()"
   ]
  },
  {
   "cell_type": "code",
   "execution_count": null,
   "metadata": {},
   "outputs": [],
   "source": [
    "#| hide\n",
    "import nbdev; nbdev.nbdev_export()"
   ]
  },
  {
   "cell_type": "code",
   "execution_count": null,
   "metadata": {},
   "outputs": [],
   "source": []
  }
 ],
 "metadata": {
  "kernelspec": {
   "display_name": "python3",
   "language": "python",
   "name": "python3"
  }
 },
 "nbformat": 4,
 "nbformat_minor": 4
}
